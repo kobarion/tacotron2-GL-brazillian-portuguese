{
 "cells": [
  {
   "cell_type": "code",
   "execution_count": 1,
   "metadata": {},
   "outputs": [
    {
     "name": "stderr",
     "output_type": "stream",
     "text": [
      "c:\\users\\koba\\appdata\\local\\programs\\python\\python36\\lib\\site-packages\\librosa\\util\\decorators.py:9: NumbaDeprecationWarning: \u001b[1mAn import was requested from a module that has moved location.\n",
      "Import of 'jit' requested from: 'numba.decorators', please update to use 'numba.core.decorators' or pin to Numba version 0.48.0. This alias will not be present in Numba version 0.50.0.\u001b[0m\n",
      "  from numba.decorators import jit as optional_jit\n"
     ]
    }
   ],
   "source": [
    "import pandas as pd\n",
    "import numpy as np\n",
    "import matplotlib.pyplot as plt\n",
    "\n",
    "import os\n",
    "import glob2\n",
    "from scipy.io import wavfile\n",
    "\n",
    "from IPython.display import Audio\n",
    "import librosa\n",
    "import librosa.display"
   ]
  },
  {
   "cell_type": "code",
   "execution_count": 2,
   "metadata": {},
   "outputs": [],
   "source": [
    "audio_path = os.path.join(os.getcwd(), 'data', 'CommonVoice4', 'clips')\n",
    "validated_path = os.path.join(os.getcwd(), 'data', 'CommonVoice4', 'validated.tsv')"
   ]
  },
  {
   "cell_type": "code",
   "execution_count": 3,
   "metadata": {},
   "outputs": [],
   "source": [
    "df = pd.read_csv(validated_path, sep='\\t')"
   ]
  },
  {
   "cell_type": "code",
   "execution_count": 4,
   "metadata": {},
   "outputs": [
    {
     "data": {
      "text/html": [
       "<div>\n",
       "<style scoped>\n",
       "    .dataframe tbody tr th:only-of-type {\n",
       "        vertical-align: middle;\n",
       "    }\n",
       "\n",
       "    .dataframe tbody tr th {\n",
       "        vertical-align: top;\n",
       "    }\n",
       "\n",
       "    .dataframe thead th {\n",
       "        text-align: right;\n",
       "    }\n",
       "</style>\n",
       "<table border=\"1\" class=\"dataframe\">\n",
       "  <thead>\n",
       "    <tr style=\"text-align: right;\">\n",
       "      <th></th>\n",
       "      <th>client_id</th>\n",
       "      <th>path</th>\n",
       "      <th>sentence</th>\n",
       "      <th>up_votes</th>\n",
       "      <th>down_votes</th>\n",
       "      <th>age</th>\n",
       "      <th>gender</th>\n",
       "      <th>accent</th>\n",
       "    </tr>\n",
       "  </thead>\n",
       "  <tbody>\n",
       "    <tr>\n",
       "      <td>0</td>\n",
       "      <td>235bfe76c2f0aa72f8f217c70ade4fd10d7b8aa2f9707a...</td>\n",
       "      <td>common_voice_pt_19484624.mp3</td>\n",
       "      <td>Pedir dinheiro emprestado às pessoas da aldeia</td>\n",
       "      <td>2</td>\n",
       "      <td>1</td>\n",
       "      <td>NaN</td>\n",
       "      <td>NaN</td>\n",
       "      <td>NaN</td>\n",
       "    </tr>\n",
       "    <tr>\n",
       "      <td>1</td>\n",
       "      <td>25b96b97ba7e13e1cdb7696ddb8d0a214f7deb52839025...</td>\n",
       "      <td>common_voice_pt_19405032.mp3</td>\n",
       "      <td>Trancá-los</td>\n",
       "      <td>2</td>\n",
       "      <td>0</td>\n",
       "      <td>NaN</td>\n",
       "      <td>NaN</td>\n",
       "      <td>NaN</td>\n",
       "    </tr>\n",
       "    <tr>\n",
       "      <td>2</td>\n",
       "      <td>30291b4b87476b9d6503d7ae8cffa126a5143541de66c9...</td>\n",
       "      <td>common_voice_pt_19522569.mp3</td>\n",
       "      <td>O Youtube ainda é a melhor plataforma de vídeos.</td>\n",
       "      <td>2</td>\n",
       "      <td>0</td>\n",
       "      <td>NaN</td>\n",
       "      <td>NaN</td>\n",
       "      <td>NaN</td>\n",
       "    </tr>\n",
       "    <tr>\n",
       "      <td>3</td>\n",
       "      <td>31849d479fec44f97d7fc323ba25e29bc043acbd371514...</td>\n",
       "      <td>common_voice_pt_19665686.mp3</td>\n",
       "      <td>Menina e menino beijando nas sombras</td>\n",
       "      <td>2</td>\n",
       "      <td>0</td>\n",
       "      <td>NaN</td>\n",
       "      <td>NaN</td>\n",
       "      <td>NaN</td>\n",
       "    </tr>\n",
       "    <tr>\n",
       "      <td>4</td>\n",
       "      <td>32de5e96080644cc94bc1b86d8eec8fc23297f8d7432ed...</td>\n",
       "      <td>common_voice_pt_20183194.mp3</td>\n",
       "      <td>Particularmente, meu cuscuz cortado eu gosto d...</td>\n",
       "      <td>2</td>\n",
       "      <td>0</td>\n",
       "      <td>NaN</td>\n",
       "      <td>NaN</td>\n",
       "      <td>NaN</td>\n",
       "    </tr>\n",
       "  </tbody>\n",
       "</table>\n",
       "</div>"
      ],
      "text/plain": [
       "                                           client_id  \\\n",
       "0  235bfe76c2f0aa72f8f217c70ade4fd10d7b8aa2f9707a...   \n",
       "1  25b96b97ba7e13e1cdb7696ddb8d0a214f7deb52839025...   \n",
       "2  30291b4b87476b9d6503d7ae8cffa126a5143541de66c9...   \n",
       "3  31849d479fec44f97d7fc323ba25e29bc043acbd371514...   \n",
       "4  32de5e96080644cc94bc1b86d8eec8fc23297f8d7432ed...   \n",
       "\n",
       "                           path  \\\n",
       "0  common_voice_pt_19484624.mp3   \n",
       "1  common_voice_pt_19405032.mp3   \n",
       "2  common_voice_pt_19522569.mp3   \n",
       "3  common_voice_pt_19665686.mp3   \n",
       "4  common_voice_pt_20183194.mp3   \n",
       "\n",
       "                                            sentence  up_votes  down_votes  \\\n",
       "0     Pedir dinheiro emprestado às pessoas da aldeia         2           1   \n",
       "1                                         Trancá-los         2           0   \n",
       "2   O Youtube ainda é a melhor plataforma de vídeos.         2           0   \n",
       "3               Menina e menino beijando nas sombras         2           0   \n",
       "4  Particularmente, meu cuscuz cortado eu gosto d...         2           0   \n",
       "\n",
       "   age gender  accent  \n",
       "0  NaN    NaN     NaN  \n",
       "1  NaN    NaN     NaN  \n",
       "2  NaN    NaN     NaN  \n",
       "3  NaN    NaN     NaN  \n",
       "4  NaN    NaN     NaN  "
      ]
     },
     "execution_count": 4,
     "metadata": {},
     "output_type": "execute_result"
    }
   ],
   "source": [
    "df.head()"
   ]
  },
  {
   "cell_type": "code",
   "execution_count": 5,
   "metadata": {},
   "outputs": [
    {
     "data": {
      "text/plain": [
       "9d91497cb25399ad6cf6a4d88548fa84ee3c3687363015eb7b12d269cf363dec73496b009c86266b8b7dda93ff257139bab1ddf599719f46ce5cee865a6d80c1    7631\n",
       "939991dfcf12d8250739f3b4e5ed47e0dc4bf8ffb69810f4ab853aa12872a811941be35b7e91af5df8350d75d3c61d1301aba694c41deb3f38f1414703bc0461    6271\n",
       "a9a5b0da1aadab7621f6ff144245201cafbe186e8871008f87abf78d1f6291c5fc94e7904d54390209efb537ab7dc4fc46c600e40afecd8b52c96ac3e69abf2a    1127\n",
       "30bb34575fe9b8717726a6140ff62bda3f40f45e233f561d56b5977801ed068462b89e1ab8644987c8158614c4167a37eec13ba388d595ffdfceae4d22b0f4da     318\n",
       "c4a522c308c1cb57c4d5f97974146c8bb3c70053121814f1a9c6857e3f778dd3dd001730ccb00f2e3113428475d881cc2da6a6519b68e44383d836d218388ed0     286\n",
       "                                                                                                                                    ... \n",
       "81a16efeaa33eee3fa930accbb142983800e0abe6cb3e3afe56cc1ee8d14a65ed95c5444e39c45026ff34079b30de68561e7a81a33d7522c554fb39def0e7b57       1\n",
       "25b96b97ba7e13e1cdb7696ddb8d0a214f7deb5283902548d5eabf9f57091276bc004c7bb92fd7a1fd83619b2941b2b8856a45a14d516186ae68bb29a7f35cf2       1\n",
       "7308bd4fe106650494ad1e521b01bc26b2b44369bd2ca3e3e21523754c3f75b5ce982aff8648b507852da83ac63b7523197bfaf10dfed92e5bf0525499f4ca83       1\n",
       "71a71c963a6e7775a160a23e177a38528affad92e6be5d9368390ce88671b5b0974310d45f489ac0c4d775de953361b87a2906e8bfc20d52fcf7d53f65fb7f62       1\n",
       "60167863d2ad6d2618ae8bc8a148e13fa2e45cbe8dda1ad77dc69f4db34477553ea8f212a186116e9b9717230b3e3ad8f3afd46a661eb16df975de7d00cd012e       1\n",
       "Name: client_id, Length: 319, dtype: int64"
      ]
     },
     "execution_count": 5,
     "metadata": {},
     "output_type": "execute_result"
    }
   ],
   "source": [
    "df.client_id.value_counts()"
   ]
  },
  {
   "cell_type": "code",
   "execution_count": 6,
   "metadata": {},
   "outputs": [
    {
     "data": {
      "text/plain": [
       "(22131, 8)"
      ]
     },
     "execution_count": 6,
     "metadata": {},
     "output_type": "execute_result"
    }
   ],
   "source": [
    "df.shape"
   ]
  },
  {
   "cell_type": "code",
   "execution_count": 8,
   "metadata": {},
   "outputs": [
    {
     "data": {
      "text/plain": [
       "9d91497cb25399ad6cf6a4d88548fa84ee3c3687363015eb7b12d269cf363dec73496b009c86266b8b7dda93ff257139bab1ddf599719f46ce5cee865a6d80c1    34.481045\n",
       "939991dfcf12d8250739f3b4e5ed47e0dc4bf8ffb69810f4ab853aa12872a811941be35b7e91af5df8350d75d3c61d1301aba694c41deb3f38f1414703bc0461    28.335819\n",
       "a9a5b0da1aadab7621f6ff144245201cafbe186e8871008f87abf78d1f6291c5fc94e7904d54390209efb537ab7dc4fc46c600e40afecd8b52c96ac3e69abf2a     5.092404\n",
       "30bb34575fe9b8717726a6140ff62bda3f40f45e233f561d56b5977801ed068462b89e1ab8644987c8158614c4167a37eec13ba388d595ffdfceae4d22b0f4da     1.436898\n",
       "c4a522c308c1cb57c4d5f97974146c8bb3c70053121814f1a9c6857e3f778dd3dd001730ccb00f2e3113428475d881cc2da6a6519b68e44383d836d218388ed0     1.292305\n",
       "                                                                                                                                      ...    \n",
       "a8f93f5673c14cd27d5da37e2cd6d0c7bc7ec5269dab021134007a8116f87943f0bb72fa86eb419d9db053d47b29eaab309289810fc2f8abcc0136eb20e4f1ff     0.004519\n",
       "7308bd4fe106650494ad1e521b01bc26b2b44369bd2ca3e3e21523754c3f75b5ce982aff8648b507852da83ac63b7523197bfaf10dfed92e5bf0525499f4ca83     0.004519\n",
       "235bfe76c2f0aa72f8f217c70ade4fd10d7b8aa2f9707aebda0c83804425d7e6a8e12a74947a9fcdf4b0d60744c213c5d00acb373e6b35f584e8db4e0a5c7097     0.004519\n",
       "30291b4b87476b9d6503d7ae8cffa126a5143541de66c9b317dbb0e6d4afc64b83df08c1018fd891c834b24f2deb88d2b63374a933a4197031e774ad5cd82bb8     0.004519\n",
       "32de5e96080644cc94bc1b86d8eec8fc23297f8d7432ed133d14f09bdd7f36d47807aa561bf6e5ed9a8573fa38196aaa0f2bd8a327cbbde23db14aeb75757bd6     0.004519\n",
       "Name: client_id, Length: 319, dtype: float64"
      ]
     },
     "execution_count": 8,
     "metadata": {},
     "output_type": "execute_result"
    }
   ],
   "source": [
    "df.client_id.value_counts() / df.shape[0] * 100"
   ]
  },
  {
   "cell_type": "code",
   "execution_count": 6,
   "metadata": {},
   "outputs": [],
   "source": [
    "top_clients = df.client_id.value_counts().index.tolist()"
   ]
  },
  {
   "cell_type": "code",
   "execution_count": 7,
   "metadata": {},
   "outputs": [],
   "source": [
    "client = df[df.client_id == top_clients[0]]"
   ]
  },
  {
   "cell_type": "code",
   "execution_count": 8,
   "metadata": {},
   "outputs": [
    {
     "data": {
      "text/html": [
       "<div>\n",
       "<style scoped>\n",
       "    .dataframe tbody tr th:only-of-type {\n",
       "        vertical-align: middle;\n",
       "    }\n",
       "\n",
       "    .dataframe tbody tr th {\n",
       "        vertical-align: top;\n",
       "    }\n",
       "\n",
       "    .dataframe thead th {\n",
       "        text-align: right;\n",
       "    }\n",
       "</style>\n",
       "<table border=\"1\" class=\"dataframe\">\n",
       "  <thead>\n",
       "    <tr style=\"text-align: right;\">\n",
       "      <th></th>\n",
       "      <th>client_id</th>\n",
       "      <th>path</th>\n",
       "      <th>sentence</th>\n",
       "      <th>up_votes</th>\n",
       "      <th>down_votes</th>\n",
       "      <th>age</th>\n",
       "      <th>gender</th>\n",
       "      <th>accent</th>\n",
       "    </tr>\n",
       "  </thead>\n",
       "  <tbody>\n",
       "    <tr>\n",
       "      <td>14500</td>\n",
       "      <td>9d91497cb25399ad6cf6a4d88548fa84ee3c3687363015...</td>\n",
       "      <td>common_voice_pt_19432740.mp3</td>\n",
       "      <td>Somos muito vulneráveis</td>\n",
       "      <td>2</td>\n",
       "      <td>0</td>\n",
       "      <td>thirties</td>\n",
       "      <td>male</td>\n",
       "      <td>NaN</td>\n",
       "    </tr>\n",
       "    <tr>\n",
       "      <td>14501</td>\n",
       "      <td>9d91497cb25399ad6cf6a4d88548fa84ee3c3687363015...</td>\n",
       "      <td>common_voice_pt_19432742.mp3</td>\n",
       "      <td>Sua alma deve ser muito primitiva para entende...</td>\n",
       "      <td>2</td>\n",
       "      <td>0</td>\n",
       "      <td>thirties</td>\n",
       "      <td>male</td>\n",
       "      <td>NaN</td>\n",
       "    </tr>\n",
       "    <tr>\n",
       "      <td>14502</td>\n",
       "      <td>9d91497cb25399ad6cf6a4d88548fa84ee3c3687363015...</td>\n",
       "      <td>common_voice_pt_19432745.mp3</td>\n",
       "      <td>A tristeza em casa é um desejo mórbido de volt...</td>\n",
       "      <td>2</td>\n",
       "      <td>0</td>\n",
       "      <td>thirties</td>\n",
       "      <td>male</td>\n",
       "      <td>NaN</td>\n",
       "    </tr>\n",
       "    <tr>\n",
       "      <td>14503</td>\n",
       "      <td>9d91497cb25399ad6cf6a4d88548fa84ee3c3687363015...</td>\n",
       "      <td>common_voice_pt_19432746.mp3</td>\n",
       "      <td>O nome original em inglês deste livro não é tã...</td>\n",
       "      <td>2</td>\n",
       "      <td>0</td>\n",
       "      <td>thirties</td>\n",
       "      <td>male</td>\n",
       "      <td>NaN</td>\n",
       "    </tr>\n",
       "    <tr>\n",
       "      <td>14504</td>\n",
       "      <td>9d91497cb25399ad6cf6a4d88548fa84ee3c3687363015...</td>\n",
       "      <td>common_voice_pt_19432747.mp3</td>\n",
       "      <td>Não? não, obrigado? apenas procurando.</td>\n",
       "      <td>2</td>\n",
       "      <td>0</td>\n",
       "      <td>thirties</td>\n",
       "      <td>male</td>\n",
       "      <td>NaN</td>\n",
       "    </tr>\n",
       "    <tr>\n",
       "      <td>...</td>\n",
       "      <td>...</td>\n",
       "      <td>...</td>\n",
       "      <td>...</td>\n",
       "      <td>...</td>\n",
       "      <td>...</td>\n",
       "      <td>...</td>\n",
       "      <td>...</td>\n",
       "      <td>...</td>\n",
       "    </tr>\n",
       "    <tr>\n",
       "      <td>22126</td>\n",
       "      <td>9d91497cb25399ad6cf6a4d88548fa84ee3c3687363015...</td>\n",
       "      <td>common_voice_pt_19860900.mp3</td>\n",
       "      <td>Avós sentado em um banco com seu neto.</td>\n",
       "      <td>2</td>\n",
       "      <td>0</td>\n",
       "      <td>thirties</td>\n",
       "      <td>male</td>\n",
       "      <td>NaN</td>\n",
       "    </tr>\n",
       "    <tr>\n",
       "      <td>22127</td>\n",
       "      <td>9d91497cb25399ad6cf6a4d88548fa84ee3c3687363015...</td>\n",
       "      <td>common_voice_pt_19860901.mp3</td>\n",
       "      <td>Isso foi graças ao ouro sendo descoberto e à c...</td>\n",
       "      <td>2</td>\n",
       "      <td>0</td>\n",
       "      <td>thirties</td>\n",
       "      <td>male</td>\n",
       "      <td>NaN</td>\n",
       "    </tr>\n",
       "    <tr>\n",
       "      <td>22128</td>\n",
       "      <td>9d91497cb25399ad6cf6a4d88548fa84ee3c3687363015...</td>\n",
       "      <td>common_voice_pt_19860902.mp3</td>\n",
       "      <td>Há um pato adulto e vários patinhos.</td>\n",
       "      <td>2</td>\n",
       "      <td>0</td>\n",
       "      <td>thirties</td>\n",
       "      <td>male</td>\n",
       "      <td>NaN</td>\n",
       "    </tr>\n",
       "    <tr>\n",
       "      <td>22129</td>\n",
       "      <td>9d91497cb25399ad6cf6a4d88548fa84ee3c3687363015...</td>\n",
       "      <td>common_voice_pt_19860903.mp3</td>\n",
       "      <td>No entanto? a apresentação do trabalho anterio...</td>\n",
       "      <td>2</td>\n",
       "      <td>0</td>\n",
       "      <td>thirties</td>\n",
       "      <td>male</td>\n",
       "      <td>NaN</td>\n",
       "    </tr>\n",
       "    <tr>\n",
       "      <td>22130</td>\n",
       "      <td>9d91497cb25399ad6cf6a4d88548fa84ee3c3687363015...</td>\n",
       "      <td>common_voice_pt_20157003.mp3</td>\n",
       "      <td>O patinet não funciona bem na calçada.</td>\n",
       "      <td>2</td>\n",
       "      <td>0</td>\n",
       "      <td>thirties</td>\n",
       "      <td>male</td>\n",
       "      <td>NaN</td>\n",
       "    </tr>\n",
       "  </tbody>\n",
       "</table>\n",
       "<p>7631 rows × 8 columns</p>\n",
       "</div>"
      ],
      "text/plain": [
       "                                               client_id  \\\n",
       "14500  9d91497cb25399ad6cf6a4d88548fa84ee3c3687363015...   \n",
       "14501  9d91497cb25399ad6cf6a4d88548fa84ee3c3687363015...   \n",
       "14502  9d91497cb25399ad6cf6a4d88548fa84ee3c3687363015...   \n",
       "14503  9d91497cb25399ad6cf6a4d88548fa84ee3c3687363015...   \n",
       "14504  9d91497cb25399ad6cf6a4d88548fa84ee3c3687363015...   \n",
       "...                                                  ...   \n",
       "22126  9d91497cb25399ad6cf6a4d88548fa84ee3c3687363015...   \n",
       "22127  9d91497cb25399ad6cf6a4d88548fa84ee3c3687363015...   \n",
       "22128  9d91497cb25399ad6cf6a4d88548fa84ee3c3687363015...   \n",
       "22129  9d91497cb25399ad6cf6a4d88548fa84ee3c3687363015...   \n",
       "22130  9d91497cb25399ad6cf6a4d88548fa84ee3c3687363015...   \n",
       "\n",
       "                               path  \\\n",
       "14500  common_voice_pt_19432740.mp3   \n",
       "14501  common_voice_pt_19432742.mp3   \n",
       "14502  common_voice_pt_19432745.mp3   \n",
       "14503  common_voice_pt_19432746.mp3   \n",
       "14504  common_voice_pt_19432747.mp3   \n",
       "...                             ...   \n",
       "22126  common_voice_pt_19860900.mp3   \n",
       "22127  common_voice_pt_19860901.mp3   \n",
       "22128  common_voice_pt_19860902.mp3   \n",
       "22129  common_voice_pt_19860903.mp3   \n",
       "22130  common_voice_pt_20157003.mp3   \n",
       "\n",
       "                                                sentence  up_votes  \\\n",
       "14500                            Somos muito vulneráveis         2   \n",
       "14501  Sua alma deve ser muito primitiva para entende...         2   \n",
       "14502  A tristeza em casa é um desejo mórbido de volt...         2   \n",
       "14503  O nome original em inglês deste livro não é tã...         2   \n",
       "14504             Não? não, obrigado? apenas procurando.         2   \n",
       "...                                                  ...       ...   \n",
       "22126             Avós sentado em um banco com seu neto.         2   \n",
       "22127  Isso foi graças ao ouro sendo descoberto e à c...         2   \n",
       "22128               Há um pato adulto e vários patinhos.         2   \n",
       "22129  No entanto? a apresentação do trabalho anterio...         2   \n",
       "22130             O patinet não funciona bem na calçada.         2   \n",
       "\n",
       "       down_votes       age gender  accent  \n",
       "14500           0  thirties   male     NaN  \n",
       "14501           0  thirties   male     NaN  \n",
       "14502           0  thirties   male     NaN  \n",
       "14503           0  thirties   male     NaN  \n",
       "14504           0  thirties   male     NaN  \n",
       "...           ...       ...    ...     ...  \n",
       "22126           0  thirties   male     NaN  \n",
       "22127           0  thirties   male     NaN  \n",
       "22128           0  thirties   male     NaN  \n",
       "22129           0  thirties   male     NaN  \n",
       "22130           0  thirties   male     NaN  \n",
       "\n",
       "[7631 rows x 8 columns]"
      ]
     },
     "execution_count": 8,
     "metadata": {},
     "output_type": "execute_result"
    }
   ],
   "source": [
    "client"
   ]
  },
  {
   "cell_type": "code",
   "execution_count": 9,
   "metadata": {},
   "outputs": [],
   "source": [
    "client_wav_path = client.path.to_list()"
   ]
  },
  {
   "cell_type": "code",
   "execution_count": 10,
   "metadata": {},
   "outputs": [
    {
     "data": {
      "text/plain": [
       "'common_voice_pt_19432740.mp3'"
      ]
     },
     "execution_count": 10,
     "metadata": {},
     "output_type": "execute_result"
    }
   ],
   "source": [
    "client_wav_path[0]"
   ]
  },
  {
   "cell_type": "code",
   "execution_count": 11,
   "metadata": {},
   "outputs": [],
   "source": [
    "path_rename = client.path.replace(to_replace=r'.mp3', value='.wav', regex=True).to_list()"
   ]
  },
  {
   "cell_type": "code",
   "execution_count": 12,
   "metadata": {},
   "outputs": [
    {
     "data": {
      "text/plain": [
       "'common_voice_pt_19432740.wav'"
      ]
     },
     "execution_count": 12,
     "metadata": {},
     "output_type": "execute_result"
    }
   ],
   "source": [
    "path_rename[0]"
   ]
  },
  {
   "cell_type": "code",
   "execution_count": 14,
   "metadata": {},
   "outputs": [],
   "source": [
    "client_df = client.copy()\n",
    "client_df.path = client.path.replace(to_replace=r'.mp3', value='.wav', regex=True)"
   ]
  },
  {
   "cell_type": "markdown",
   "metadata": {},
   "source": [
    "Analysis"
   ]
  },
  {
   "cell_type": "code",
   "execution_count": 15,
   "metadata": {},
   "outputs": [
    {
     "data": {
      "text/plain": [
       "0    7365\n",
       "1     265\n",
       "2       1\n",
       "Name: down_votes, dtype: int64"
      ]
     },
     "execution_count": 15,
     "metadata": {},
     "output_type": "execute_result"
    }
   ],
   "source": [
    "client_df.down_votes.value_counts()"
   ]
  },
  {
   "cell_type": "code",
   "execution_count": 16,
   "metadata": {},
   "outputs": [
    {
     "data": {
      "text/plain": [
       "2    7620\n",
       "3      11\n",
       "Name: up_votes, dtype: int64"
      ]
     },
     "execution_count": 16,
     "metadata": {},
     "output_type": "execute_result"
    }
   ],
   "source": [
    "client_df.up_votes.value_counts()"
   ]
  },
  {
   "cell_type": "code",
   "execution_count": 17,
   "metadata": {},
   "outputs": [
    {
     "data": {
      "text/html": [
       "<div>\n",
       "<style scoped>\n",
       "    .dataframe tbody tr th:only-of-type {\n",
       "        vertical-align: middle;\n",
       "    }\n",
       "\n",
       "    .dataframe tbody tr th {\n",
       "        vertical-align: top;\n",
       "    }\n",
       "\n",
       "    .dataframe thead th {\n",
       "        text-align: right;\n",
       "    }\n",
       "</style>\n",
       "<table border=\"1\" class=\"dataframe\">\n",
       "  <thead>\n",
       "    <tr style=\"text-align: right;\">\n",
       "      <th></th>\n",
       "      <th>client_id</th>\n",
       "      <th>path</th>\n",
       "      <th>sentence</th>\n",
       "      <th>up_votes</th>\n",
       "      <th>down_votes</th>\n",
       "      <th>age</th>\n",
       "      <th>gender</th>\n",
       "      <th>accent</th>\n",
       "    </tr>\n",
       "  </thead>\n",
       "  <tbody>\n",
       "    <tr>\n",
       "      <td>14521</td>\n",
       "      <td>9d91497cb25399ad6cf6a4d88548fa84ee3c3687363015...</td>\n",
       "      <td>common_voice_pt_19432794.wav</td>\n",
       "      <td>Um homem faz truques de skate em um estacionam...</td>\n",
       "      <td>2</td>\n",
       "      <td>1</td>\n",
       "      <td>thirties</td>\n",
       "      <td>male</td>\n",
       "      <td>NaN</td>\n",
       "    </tr>\n",
       "    <tr>\n",
       "      <td>14616</td>\n",
       "      <td>9d91497cb25399ad6cf6a4d88548fa84ee3c3687363015...</td>\n",
       "      <td>common_voice_pt_19432958.wav</td>\n",
       "      <td>Qual é o sobrenome?</td>\n",
       "      <td>2</td>\n",
       "      <td>1</td>\n",
       "      <td>thirties</td>\n",
       "      <td>male</td>\n",
       "      <td>NaN</td>\n",
       "    </tr>\n",
       "    <tr>\n",
       "      <td>14676</td>\n",
       "      <td>9d91497cb25399ad6cf6a4d88548fa84ee3c3687363015...</td>\n",
       "      <td>common_voice_pt_19433019.wav</td>\n",
       "      <td>O que voce conseguiu?</td>\n",
       "      <td>2</td>\n",
       "      <td>1</td>\n",
       "      <td>thirties</td>\n",
       "      <td>male</td>\n",
       "      <td>NaN</td>\n",
       "    </tr>\n",
       "    <tr>\n",
       "      <td>14771</td>\n",
       "      <td>9d91497cb25399ad6cf6a4d88548fa84ee3c3687363015...</td>\n",
       "      <td>common_voice_pt_19433207.wav</td>\n",
       "      <td>livro local em um restaurante altamente cotado...</td>\n",
       "      <td>2</td>\n",
       "      <td>1</td>\n",
       "      <td>thirties</td>\n",
       "      <td>male</td>\n",
       "      <td>NaN</td>\n",
       "    </tr>\n",
       "    <tr>\n",
       "      <td>14789</td>\n",
       "      <td>9d91497cb25399ad6cf6a4d88548fa84ee3c3687363015...</td>\n",
       "      <td>common_voice_pt_19433251.wav</td>\n",
       "      <td>Ele ouviu o vento e sentiu as pedras sob seus ...</td>\n",
       "      <td>2</td>\n",
       "      <td>1</td>\n",
       "      <td>thirties</td>\n",
       "      <td>male</td>\n",
       "      <td>NaN</td>\n",
       "    </tr>\n",
       "    <tr>\n",
       "      <td>...</td>\n",
       "      <td>...</td>\n",
       "      <td>...</td>\n",
       "      <td>...</td>\n",
       "      <td>...</td>\n",
       "      <td>...</td>\n",
       "      <td>...</td>\n",
       "      <td>...</td>\n",
       "      <td>...</td>\n",
       "    </tr>\n",
       "    <tr>\n",
       "      <td>22021</td>\n",
       "      <td>9d91497cb25399ad6cf6a4d88548fa84ee3c3687363015...</td>\n",
       "      <td>common_voice_pt_19813836.wav</td>\n",
       "      <td>Há uma surpresa dentro do presente.</td>\n",
       "      <td>2</td>\n",
       "      <td>1</td>\n",
       "      <td>thirties</td>\n",
       "      <td>male</td>\n",
       "      <td>NaN</td>\n",
       "    </tr>\n",
       "    <tr>\n",
       "      <td>22044</td>\n",
       "      <td>9d91497cb25399ad6cf6a4d88548fa84ee3c3687363015...</td>\n",
       "      <td>common_voice_pt_19813869.wav</td>\n",
       "      <td>O menino estava lá quando o sol nasceu.</td>\n",
       "      <td>2</td>\n",
       "      <td>1</td>\n",
       "      <td>thirties</td>\n",
       "      <td>male</td>\n",
       "      <td>NaN</td>\n",
       "    </tr>\n",
       "    <tr>\n",
       "      <td>22069</td>\n",
       "      <td>9d91497cb25399ad6cf6a4d88548fa84ee3c3687363015...</td>\n",
       "      <td>common_voice_pt_19860766.wav</td>\n",
       "      <td>Cara de suéter de flanela? shorts e sandálias ...</td>\n",
       "      <td>2</td>\n",
       "      <td>1</td>\n",
       "      <td>thirties</td>\n",
       "      <td>male</td>\n",
       "      <td>NaN</td>\n",
       "    </tr>\n",
       "    <tr>\n",
       "      <td>22071</td>\n",
       "      <td>9d91497cb25399ad6cf6a4d88548fa84ee3c3687363015...</td>\n",
       "      <td>common_voice_pt_19860768.wav</td>\n",
       "      <td>Eu gostaria de me juntar, mas ninguém me pergu...</td>\n",
       "      <td>2</td>\n",
       "      <td>1</td>\n",
       "      <td>thirties</td>\n",
       "      <td>male</td>\n",
       "      <td>NaN</td>\n",
       "    </tr>\n",
       "    <tr>\n",
       "      <td>22075</td>\n",
       "      <td>9d91497cb25399ad6cf6a4d88548fa84ee3c3687363015...</td>\n",
       "      <td>common_voice_pt_19860778.wav</td>\n",
       "      <td>Um garotinho no acampamento? em uma camiseta a...</td>\n",
       "      <td>2</td>\n",
       "      <td>1</td>\n",
       "      <td>thirties</td>\n",
       "      <td>male</td>\n",
       "      <td>NaN</td>\n",
       "    </tr>\n",
       "  </tbody>\n",
       "</table>\n",
       "<p>265 rows × 8 columns</p>\n",
       "</div>"
      ],
      "text/plain": [
       "                                               client_id  \\\n",
       "14521  9d91497cb25399ad6cf6a4d88548fa84ee3c3687363015...   \n",
       "14616  9d91497cb25399ad6cf6a4d88548fa84ee3c3687363015...   \n",
       "14676  9d91497cb25399ad6cf6a4d88548fa84ee3c3687363015...   \n",
       "14771  9d91497cb25399ad6cf6a4d88548fa84ee3c3687363015...   \n",
       "14789  9d91497cb25399ad6cf6a4d88548fa84ee3c3687363015...   \n",
       "...                                                  ...   \n",
       "22021  9d91497cb25399ad6cf6a4d88548fa84ee3c3687363015...   \n",
       "22044  9d91497cb25399ad6cf6a4d88548fa84ee3c3687363015...   \n",
       "22069  9d91497cb25399ad6cf6a4d88548fa84ee3c3687363015...   \n",
       "22071  9d91497cb25399ad6cf6a4d88548fa84ee3c3687363015...   \n",
       "22075  9d91497cb25399ad6cf6a4d88548fa84ee3c3687363015...   \n",
       "\n",
       "                               path  \\\n",
       "14521  common_voice_pt_19432794.wav   \n",
       "14616  common_voice_pt_19432958.wav   \n",
       "14676  common_voice_pt_19433019.wav   \n",
       "14771  common_voice_pt_19433207.wav   \n",
       "14789  common_voice_pt_19433251.wav   \n",
       "...                             ...   \n",
       "22021  common_voice_pt_19813836.wav   \n",
       "22044  common_voice_pt_19813869.wav   \n",
       "22069  common_voice_pt_19860766.wav   \n",
       "22071  common_voice_pt_19860768.wav   \n",
       "22075  common_voice_pt_19860778.wav   \n",
       "\n",
       "                                                sentence  up_votes  \\\n",
       "14521  Um homem faz truques de skate em um estacionam...         2   \n",
       "14616                                Qual é o sobrenome?         2   \n",
       "14676                              O que voce conseguiu?         2   \n",
       "14771  livro local em um restaurante altamente cotado...         2   \n",
       "14789  Ele ouviu o vento e sentiu as pedras sob seus ...         2   \n",
       "...                                                  ...       ...   \n",
       "22021                Há uma surpresa dentro do presente.         2   \n",
       "22044            O menino estava lá quando o sol nasceu.         2   \n",
       "22069  Cara de suéter de flanela? shorts e sandálias ...         2   \n",
       "22071  Eu gostaria de me juntar, mas ninguém me pergu...         2   \n",
       "22075  Um garotinho no acampamento? em uma camiseta a...         2   \n",
       "\n",
       "       down_votes       age gender  accent  \n",
       "14521           1  thirties   male     NaN  \n",
       "14616           1  thirties   male     NaN  \n",
       "14676           1  thirties   male     NaN  \n",
       "14771           1  thirties   male     NaN  \n",
       "14789           1  thirties   male     NaN  \n",
       "...           ...       ...    ...     ...  \n",
       "22021           1  thirties   male     NaN  \n",
       "22044           1  thirties   male     NaN  \n",
       "22069           1  thirties   male     NaN  \n",
       "22071           1  thirties   male     NaN  \n",
       "22075           1  thirties   male     NaN  \n",
       "\n",
       "[265 rows x 8 columns]"
      ]
     },
     "execution_count": 17,
     "metadata": {},
     "output_type": "execute_result"
    }
   ],
   "source": [
    "client_df.loc[client_df.down_votes == 1]"
   ]
  },
  {
   "cell_type": "code",
   "execution_count": 18,
   "metadata": {},
   "outputs": [
    {
     "data": {
      "text/html": [
       "<div>\n",
       "<style scoped>\n",
       "    .dataframe tbody tr th:only-of-type {\n",
       "        vertical-align: middle;\n",
       "    }\n",
       "\n",
       "    .dataframe tbody tr th {\n",
       "        vertical-align: top;\n",
       "    }\n",
       "\n",
       "    .dataframe thead th {\n",
       "        text-align: right;\n",
       "    }\n",
       "</style>\n",
       "<table border=\"1\" class=\"dataframe\">\n",
       "  <thead>\n",
       "    <tr style=\"text-align: right;\">\n",
       "      <th></th>\n",
       "      <th>client_id</th>\n",
       "      <th>path</th>\n",
       "      <th>sentence</th>\n",
       "      <th>up_votes</th>\n",
       "      <th>down_votes</th>\n",
       "      <th>age</th>\n",
       "      <th>gender</th>\n",
       "      <th>accent</th>\n",
       "    </tr>\n",
       "  </thead>\n",
       "  <tbody>\n",
       "    <tr>\n",
       "      <td>15922</td>\n",
       "      <td>9d91497cb25399ad6cf6a4d88548fa84ee3c3687363015...</td>\n",
       "      <td>common_voice_pt_19441926.wav</td>\n",
       "      <td>Você vai sair e me deixe lidar com isso?</td>\n",
       "      <td>3</td>\n",
       "      <td>2</td>\n",
       "      <td>thirties</td>\n",
       "      <td>male</td>\n",
       "      <td>NaN</td>\n",
       "    </tr>\n",
       "  </tbody>\n",
       "</table>\n",
       "</div>"
      ],
      "text/plain": [
       "                                               client_id  \\\n",
       "15922  9d91497cb25399ad6cf6a4d88548fa84ee3c3687363015...   \n",
       "\n",
       "                               path                                  sentence  \\\n",
       "15922  common_voice_pt_19441926.wav  Você vai sair e me deixe lidar com isso?   \n",
       "\n",
       "       up_votes  down_votes       age gender  accent  \n",
       "15922         3           2  thirties   male     NaN  "
      ]
     },
     "execution_count": 18,
     "metadata": {},
     "output_type": "execute_result"
    }
   ],
   "source": [
    "client_df[client_df.down_votes == 2]"
   ]
  },
  {
   "cell_type": "code",
   "execution_count": 19,
   "metadata": {},
   "outputs": [],
   "source": [
    "client_df.replace(to_replace = r'Você vai sair e me deixe lidar com isso', value='Você vai sair e me deixar lidar com isso', regex=True, inplace=True)"
   ]
  },
  {
   "cell_type": "code",
   "execution_count": 20,
   "metadata": {},
   "outputs": [
    {
     "data": {
      "text/html": [
       "<div>\n",
       "<style scoped>\n",
       "    .dataframe tbody tr th:only-of-type {\n",
       "        vertical-align: middle;\n",
       "    }\n",
       "\n",
       "    .dataframe tbody tr th {\n",
       "        vertical-align: top;\n",
       "    }\n",
       "\n",
       "    .dataframe thead th {\n",
       "        text-align: right;\n",
       "    }\n",
       "</style>\n",
       "<table border=\"1\" class=\"dataframe\">\n",
       "  <thead>\n",
       "    <tr style=\"text-align: right;\">\n",
       "      <th></th>\n",
       "      <th>client_id</th>\n",
       "      <th>path</th>\n",
       "      <th>sentence</th>\n",
       "      <th>up_votes</th>\n",
       "      <th>down_votes</th>\n",
       "      <th>age</th>\n",
       "      <th>gender</th>\n",
       "      <th>accent</th>\n",
       "    </tr>\n",
       "  </thead>\n",
       "  <tbody>\n",
       "    <tr>\n",
       "      <td>15922</td>\n",
       "      <td>9d91497cb25399ad6cf6a4d88548fa84ee3c3687363015...</td>\n",
       "      <td>common_voice_pt_19441926.wav</td>\n",
       "      <td>Você vai sair e me deixar lidar com isso?</td>\n",
       "      <td>3</td>\n",
       "      <td>2</td>\n",
       "      <td>thirties</td>\n",
       "      <td>male</td>\n",
       "      <td>NaN</td>\n",
       "    </tr>\n",
       "  </tbody>\n",
       "</table>\n",
       "</div>"
      ],
      "text/plain": [
       "                                               client_id  \\\n",
       "15922  9d91497cb25399ad6cf6a4d88548fa84ee3c3687363015...   \n",
       "\n",
       "                               path  \\\n",
       "15922  common_voice_pt_19441926.wav   \n",
       "\n",
       "                                        sentence  up_votes  down_votes  \\\n",
       "15922  Você vai sair e me deixar lidar com isso?         3           2   \n",
       "\n",
       "            age gender  accent  \n",
       "15922  thirties   male     NaN  "
      ]
     },
     "execution_count": 20,
     "metadata": {},
     "output_type": "execute_result"
    }
   ],
   "source": [
    "client_df.loc[client_df.down_votes == 2]"
   ]
  },
  {
   "cell_type": "code",
   "execution_count": 49,
   "metadata": {},
   "outputs": [],
   "source": [
    "path_sentence = client_df.drop(['client_id', 'up_votes', 'down_votes', 'age', 'gender', 'accent'], axis=1)"
   ]
  },
  {
   "cell_type": "code",
   "execution_count": 50,
   "metadata": {},
   "outputs": [
    {
     "data": {
      "text/html": [
       "<div>\n",
       "<style scoped>\n",
       "    .dataframe tbody tr th:only-of-type {\n",
       "        vertical-align: middle;\n",
       "    }\n",
       "\n",
       "    .dataframe tbody tr th {\n",
       "        vertical-align: top;\n",
       "    }\n",
       "\n",
       "    .dataframe thead th {\n",
       "        text-align: right;\n",
       "    }\n",
       "</style>\n",
       "<table border=\"1\" class=\"dataframe\">\n",
       "  <thead>\n",
       "    <tr style=\"text-align: right;\">\n",
       "      <th></th>\n",
       "      <th>path</th>\n",
       "      <th>sentence</th>\n",
       "    </tr>\n",
       "  </thead>\n",
       "  <tbody>\n",
       "    <tr>\n",
       "      <td>14500</td>\n",
       "      <td>common_voice_pt_19432740.wav</td>\n",
       "      <td>Somos muito vulneráveis</td>\n",
       "    </tr>\n",
       "    <tr>\n",
       "      <td>14501</td>\n",
       "      <td>common_voice_pt_19432742.wav</td>\n",
       "      <td>Sua alma deve ser muito primitiva para entende...</td>\n",
       "    </tr>\n",
       "    <tr>\n",
       "      <td>14502</td>\n",
       "      <td>common_voice_pt_19432745.wav</td>\n",
       "      <td>A tristeza em casa é um desejo mórbido de volt...</td>\n",
       "    </tr>\n",
       "    <tr>\n",
       "      <td>14503</td>\n",
       "      <td>common_voice_pt_19432746.wav</td>\n",
       "      <td>O nome original em inglês deste livro não é tã...</td>\n",
       "    </tr>\n",
       "    <tr>\n",
       "      <td>14504</td>\n",
       "      <td>common_voice_pt_19432747.wav</td>\n",
       "      <td>Não? não, obrigado? apenas procurando.</td>\n",
       "    </tr>\n",
       "    <tr>\n",
       "      <td>14505</td>\n",
       "      <td>common_voice_pt_19432753.wav</td>\n",
       "      <td>Essa palavra é uma sigla?</td>\n",
       "    </tr>\n",
       "    <tr>\n",
       "      <td>14506</td>\n",
       "      <td>common_voice_pt_19432754.wav</td>\n",
       "      <td>Volte e peça informações.</td>\n",
       "    </tr>\n",
       "    <tr>\n",
       "      <td>14507</td>\n",
       "      <td>common_voice_pt_19432755.wav</td>\n",
       "      <td>Lara gosta de laranjas.</td>\n",
       "    </tr>\n",
       "    <tr>\n",
       "      <td>14508</td>\n",
       "      <td>common_voice_pt_19432756.wav</td>\n",
       "      <td>Eles entraram da chuva toda desgrenhada e fume...</td>\n",
       "    </tr>\n",
       "    <tr>\n",
       "      <td>14509</td>\n",
       "      <td>common_voice_pt_19432757.wav</td>\n",
       "      <td>Um dançarino está realizando um movimento de d...</td>\n",
       "    </tr>\n",
       "    <tr>\n",
       "      <td>14510</td>\n",
       "      <td>common_voice_pt_19432768.wav</td>\n",
       "      <td>São cerca de cinco.</td>\n",
       "    </tr>\n",
       "    <tr>\n",
       "      <td>14511</td>\n",
       "      <td>common_voice_pt_19432769.wav</td>\n",
       "      <td>Os pedestres andam em torno de carros em uma r...</td>\n",
       "    </tr>\n",
       "    <tr>\n",
       "      <td>14512</td>\n",
       "      <td>common_voice_pt_19432770.wav</td>\n",
       "      <td>Ela se sentou no chão tomando seu café.</td>\n",
       "    </tr>\n",
       "    <tr>\n",
       "      <td>14513</td>\n",
       "      <td>common_voice_pt_19432771.wav</td>\n",
       "      <td>Jeff Bezos tem filhos?</td>\n",
       "    </tr>\n",
       "    <tr>\n",
       "      <td>14514</td>\n",
       "      <td>common_voice_pt_19432772.wav</td>\n",
       "      <td>Nossa cadela tinha filhotes? você quer um?</td>\n",
       "    </tr>\n",
       "    <tr>\n",
       "      <td>14515</td>\n",
       "      <td>common_voice_pt_19432782.wav</td>\n",
       "      <td>\"Tenha cuidado com seus prognósticos?\", disse ...</td>\n",
       "    </tr>\n",
       "    <tr>\n",
       "      <td>14516</td>\n",
       "      <td>common_voice_pt_19432784.wav</td>\n",
       "      <td>O cabelo dela era preto.</td>\n",
       "    </tr>\n",
       "    <tr>\n",
       "      <td>14517</td>\n",
       "      <td>common_voice_pt_19432785.wav</td>\n",
       "      <td>Um homem mais velho dormindo em uma cadeira do...</td>\n",
       "    </tr>\n",
       "    <tr>\n",
       "      <td>14518</td>\n",
       "      <td>common_voice_pt_19432786.wav</td>\n",
       "      <td>Ela deu a cada um deles metade para fazê-los t...</td>\n",
       "    </tr>\n",
       "    <tr>\n",
       "      <td>14519</td>\n",
       "      <td>common_voice_pt_19432787.wav</td>\n",
       "      <td>Dois policiais vestindo coletes fluorescentes ...</td>\n",
       "    </tr>\n",
       "  </tbody>\n",
       "</table>\n",
       "</div>"
      ],
      "text/plain": [
       "                               path  \\\n",
       "14500  common_voice_pt_19432740.wav   \n",
       "14501  common_voice_pt_19432742.wav   \n",
       "14502  common_voice_pt_19432745.wav   \n",
       "14503  common_voice_pt_19432746.wav   \n",
       "14504  common_voice_pt_19432747.wav   \n",
       "14505  common_voice_pt_19432753.wav   \n",
       "14506  common_voice_pt_19432754.wav   \n",
       "14507  common_voice_pt_19432755.wav   \n",
       "14508  common_voice_pt_19432756.wav   \n",
       "14509  common_voice_pt_19432757.wav   \n",
       "14510  common_voice_pt_19432768.wav   \n",
       "14511  common_voice_pt_19432769.wav   \n",
       "14512  common_voice_pt_19432770.wav   \n",
       "14513  common_voice_pt_19432771.wav   \n",
       "14514  common_voice_pt_19432772.wav   \n",
       "14515  common_voice_pt_19432782.wav   \n",
       "14516  common_voice_pt_19432784.wav   \n",
       "14517  common_voice_pt_19432785.wav   \n",
       "14518  common_voice_pt_19432786.wav   \n",
       "14519  common_voice_pt_19432787.wav   \n",
       "\n",
       "                                                sentence  \n",
       "14500                            Somos muito vulneráveis  \n",
       "14501  Sua alma deve ser muito primitiva para entende...  \n",
       "14502  A tristeza em casa é um desejo mórbido de volt...  \n",
       "14503  O nome original em inglês deste livro não é tã...  \n",
       "14504             Não? não, obrigado? apenas procurando.  \n",
       "14505                          Essa palavra é uma sigla?  \n",
       "14506                          Volte e peça informações.  \n",
       "14507                            Lara gosta de laranjas.  \n",
       "14508  Eles entraram da chuva toda desgrenhada e fume...  \n",
       "14509  Um dançarino está realizando um movimento de d...  \n",
       "14510                                São cerca de cinco.  \n",
       "14511  Os pedestres andam em torno de carros em uma r...  \n",
       "14512            Ela se sentou no chão tomando seu café.  \n",
       "14513                             Jeff Bezos tem filhos?  \n",
       "14514         Nossa cadela tinha filhotes? você quer um?  \n",
       "14515  \"Tenha cuidado com seus prognósticos?\", disse ...  \n",
       "14516                           O cabelo dela era preto.  \n",
       "14517  Um homem mais velho dormindo em uma cadeira do...  \n",
       "14518  Ela deu a cada um deles metade para fazê-los t...  \n",
       "14519  Dois policiais vestindo coletes fluorescentes ...  "
      ]
     },
     "execution_count": 50,
     "metadata": {},
     "output_type": "execute_result"
    }
   ],
   "source": [
    "path_sentence[:20]"
   ]
  },
  {
   "cell_type": "code",
   "execution_count": 52,
   "metadata": {},
   "outputs": [],
   "source": [
    "path_sentence.to_csv('sentences.txt', sep='|', encoding='utf-8', header=None, index=None, quoting=csv.QUOTE_NONE, quotechar=\"\",  escapechar=\"\\\\\")"
   ]
  },
  {
   "cell_type": "code",
   "execution_count": 53,
   "metadata": {},
   "outputs": [],
   "source": [
    "path_sentence.path.replace('.wav', '', regex=True, inplace=True)"
   ]
  },
  {
   "cell_type": "code",
   "execution_count": 54,
   "metadata": {},
   "outputs": [
    {
     "data": {
      "text/html": [
       "<div>\n",
       "<style scoped>\n",
       "    .dataframe tbody tr th:only-of-type {\n",
       "        vertical-align: middle;\n",
       "    }\n",
       "\n",
       "    .dataframe tbody tr th {\n",
       "        vertical-align: top;\n",
       "    }\n",
       "\n",
       "    .dataframe thead th {\n",
       "        text-align: right;\n",
       "    }\n",
       "</style>\n",
       "<table border=\"1\" class=\"dataframe\">\n",
       "  <thead>\n",
       "    <tr style=\"text-align: right;\">\n",
       "      <th></th>\n",
       "      <th>path</th>\n",
       "      <th>sentence</th>\n",
       "    </tr>\n",
       "  </thead>\n",
       "  <tbody>\n",
       "    <tr>\n",
       "      <td>14500</td>\n",
       "      <td>common_voice_pt_19432740</td>\n",
       "      <td>Somos muito vulneráveis</td>\n",
       "    </tr>\n",
       "    <tr>\n",
       "      <td>14501</td>\n",
       "      <td>common_voice_pt_19432742</td>\n",
       "      <td>Sua alma deve ser muito primitiva para entende...</td>\n",
       "    </tr>\n",
       "    <tr>\n",
       "      <td>14502</td>\n",
       "      <td>common_voice_pt_19432745</td>\n",
       "      <td>A tristeza em casa é um desejo mórbido de volt...</td>\n",
       "    </tr>\n",
       "    <tr>\n",
       "      <td>14503</td>\n",
       "      <td>common_voice_pt_19432746</td>\n",
       "      <td>O nome original em inglês deste livro não é tã...</td>\n",
       "    </tr>\n",
       "    <tr>\n",
       "      <td>14504</td>\n",
       "      <td>common_voice_pt_19432747</td>\n",
       "      <td>Não? não, obrigado? apenas procurando.</td>\n",
       "    </tr>\n",
       "    <tr>\n",
       "      <td>...</td>\n",
       "      <td>...</td>\n",
       "      <td>...</td>\n",
       "    </tr>\n",
       "    <tr>\n",
       "      <td>22126</td>\n",
       "      <td>common_voice_pt_19860900</td>\n",
       "      <td>Avós sentado em um banco com seu neto.</td>\n",
       "    </tr>\n",
       "    <tr>\n",
       "      <td>22127</td>\n",
       "      <td>common_voice_pt_19860901</td>\n",
       "      <td>Isso foi graças ao ouro sendo descoberto e à c...</td>\n",
       "    </tr>\n",
       "    <tr>\n",
       "      <td>22128</td>\n",
       "      <td>common_voice_pt_19860902</td>\n",
       "      <td>Há um pato adulto e vários patinhos.</td>\n",
       "    </tr>\n",
       "    <tr>\n",
       "      <td>22129</td>\n",
       "      <td>common_voice_pt_19860903</td>\n",
       "      <td>No entanto? a apresentação do trabalho anterio...</td>\n",
       "    </tr>\n",
       "    <tr>\n",
       "      <td>22130</td>\n",
       "      <td>common_voice_pt_20157003</td>\n",
       "      <td>O patinet não funciona bem na calçada.</td>\n",
       "    </tr>\n",
       "  </tbody>\n",
       "</table>\n",
       "<p>7631 rows × 2 columns</p>\n",
       "</div>"
      ],
      "text/plain": [
       "                           path  \\\n",
       "14500  common_voice_pt_19432740   \n",
       "14501  common_voice_pt_19432742   \n",
       "14502  common_voice_pt_19432745   \n",
       "14503  common_voice_pt_19432746   \n",
       "14504  common_voice_pt_19432747   \n",
       "...                         ...   \n",
       "22126  common_voice_pt_19860900   \n",
       "22127  common_voice_pt_19860901   \n",
       "22128  common_voice_pt_19860902   \n",
       "22129  common_voice_pt_19860903   \n",
       "22130  common_voice_pt_20157003   \n",
       "\n",
       "                                                sentence  \n",
       "14500                            Somos muito vulneráveis  \n",
       "14501  Sua alma deve ser muito primitiva para entende...  \n",
       "14502  A tristeza em casa é um desejo mórbido de volt...  \n",
       "14503  O nome original em inglês deste livro não é tã...  \n",
       "14504             Não? não, obrigado? apenas procurando.  \n",
       "...                                                  ...  \n",
       "22126             Avós sentado em um banco com seu neto.  \n",
       "22127  Isso foi graças ao ouro sendo descoberto e à c...  \n",
       "22128               Há um pato adulto e vários patinhos.  \n",
       "22129  No entanto? a apresentação do trabalho anterio...  \n",
       "22130             O patinet não funciona bem na calçada.  \n",
       "\n",
       "[7631 rows x 2 columns]"
      ]
     },
     "execution_count": 54,
     "metadata": {},
     "output_type": "execute_result"
    }
   ],
   "source": [
    "path_sentence"
   ]
  },
  {
   "cell_type": "code",
   "execution_count": 55,
   "metadata": {},
   "outputs": [],
   "source": [
    "import csv"
   ]
  },
  {
   "cell_type": "code",
   "execution_count": 56,
   "metadata": {},
   "outputs": [],
   "source": [
    "path_sentence.to_csv('sentences.csv', sep='|', encoding='utf-8', header=None, index=None, quoting=csv.QUOTE_NONE, quotechar=\"\",  escapechar=\"\\\\\")"
   ]
  },
  {
   "cell_type": "markdown",
   "metadata": {},
   "source": [
    "---\n",
    "### Move male voice to new folder"
   ]
  },
  {
   "cell_type": "code",
   "execution_count": 62,
   "metadata": {},
   "outputs": [],
   "source": [
    "import shutil"
   ]
  },
  {
   "cell_type": "code",
   "execution_count": 82,
   "metadata": {},
   "outputs": [],
   "source": [
    "os.chdir('pt/clips')"
   ]
  },
  {
   "cell_type": "code",
   "execution_count": 63,
   "metadata": {},
   "outputs": [
    {
     "data": {
      "text/plain": [
       "'D:\\\\UFSC\\\\SpeechProcessing\\\\PROJECT'"
      ]
     },
     "execution_count": 63,
     "metadata": {},
     "output_type": "execute_result"
    }
   ],
   "source": [
    "os.getcwd()"
   ]
  },
  {
   "cell_type": "code",
   "execution_count": null,
   "metadata": {},
   "outputs": [],
   "source": [
    "for path in client_wav_path:\n",
    "    shutil.move(path, 'D:\\\\UFSC\\\\SpeechProcessing\\\\PROJECT\\\\voice') # shutil.copy would of been better"
   ]
  },
  {
   "cell_type": "code",
   "execution_count": null,
   "metadata": {},
   "outputs": [],
   "source": [
    "os.getcwd()"
   ]
  },
  {
   "cell_type": "code",
   "execution_count": null,
   "metadata": {},
   "outputs": [],
   "source": [
    "os.chdir('../..')"
   ]
  },
  {
   "cell_type": "code",
   "execution_count": null,
   "metadata": {},
   "outputs": [],
   "source": [
    "with open('filelist.txt', 'w+') as f:\n",
    "    for path in client_wav_path:\n",
    "        f.write(path+'\\n')"
   ]
  },
  {
   "cell_type": "code",
   "execution_count": null,
   "metadata": {},
   "outputs": [],
   "source": [
    "np.save('filelist.npy', client_wav_path)"
   ]
  },
  {
   "cell_type": "code",
   "execution_count": null,
   "metadata": {},
   "outputs": [],
   "source": [
    "np.save('filelist_renamed.npy', path_rename)"
   ]
  },
  {
   "cell_type": "markdown",
   "metadata": {},
   "source": [
    "---\n",
    "### Convert from mp3 to wav"
   ]
  },
  {
   "cell_type": "code",
   "execution_count": null,
   "metadata": {},
   "outputs": [],
   "source": [
    "from pydub import AudioSegment"
   ]
  },
  {
   "cell_type": "code",
   "execution_count": null,
   "metadata": {},
   "outputs": [],
   "source": [
    "AudioSegment.ffmpeg = os.getcwd()+\"\\\\ffmpeg\\\\bin\\\\ffmpeg.exe\"\n",
    "print (AudioSegment.ffmpeg)"
   ]
  },
  {
   "cell_type": "code",
   "execution_count": null,
   "metadata": {},
   "outputs": [],
   "source": [
    "os.getcwd()"
   ]
  },
  {
   "cell_type": "code",
   "execution_count": null,
   "metadata": {},
   "outputs": [],
   "source": [
    "# files                                                                         \n",
    "src_list = np.load('filelist.npy')\n",
    "dst_list = np.load('filelist_renamed.npy')\n",
    "cwd = os.getcwd()\n",
    "\n",
    "# convert mp3 to wav          \n",
    "for src,dst in zip(src_list,dst_list):                     \n",
    "    sound = AudioSegment.from_mp3(os.path.join(os.path.join(cwd,'voice'), src))\n",
    "    sound.export(os.path.join(os.path.join(cwd,'processed'), dst), format=\"wav\")"
   ]
  }
 ],
 "metadata": {
  "kernelspec": {
   "display_name": "Python 3",
   "language": "python",
   "name": "python3"
  },
  "language_info": {
   "codemirror_mode": {
    "name": "ipython",
    "version": 3
   },
   "file_extension": ".py",
   "mimetype": "text/x-python",
   "name": "python",
   "nbconvert_exporter": "python",
   "pygments_lexer": "ipython3",
   "version": "3.6.6rc1"
  }
 },
 "nbformat": 4,
 "nbformat_minor": 4
}
